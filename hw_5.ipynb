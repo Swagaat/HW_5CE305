{
  "nbformat": 4,
  "nbformat_minor": 0,
  "metadata": {
    "colab": {
      "provenance": [],
      "authorship_tag": "ABX9TyOD/im82wfZZ5eWcMDFxCs7",
      "include_colab_link": true
    },
    "kernelspec": {
      "name": "python3",
      "display_name": "Python 3"
    },
    "language_info": {
      "name": "python"
    }
  },
  "cells": [
    {
      "cell_type": "markdown",
      "metadata": {
        "id": "view-in-github",
        "colab_type": "text"
      },
      "source": [
        "<a href=\"https://colab.research.google.com/github/Swagaat/HW_5CE305/blob/main/hw_5.ipynb\" target=\"_parent\"><img src=\"https://colab.research.google.com/assets/colab-badge.svg\" alt=\"Open In Colab\"/></a>"
      ]
    },
    {
      "cell_type": "code",
      "source": [
        "#Solution-1:\n",
        "def store(storage, element):\n",
        "    \"\"\"\n",
        "    Store an element to the memory.\n",
        "    \"\"\"\n",
        "    new_storage = storage.copy()\n",
        "    new_storage.update(element)\n",
        "    return new_storage\n",
        "\n",
        " #Initialize memory\n",
        "init_mem = {}\n",
        "a = {800: 123}\n",
        "b = {900: 1000}\n",
        "\n",
        "# Store data in memory\n",
        "mem = store(init_mem, a)  # mem = {800: 123}\n",
        "mem = store(mem, b)  # mem = {800: 123, 900: 1000}\n",
        "\n",
        "c = {800: 900}\n",
        "mem = store(mem, c)  # mem = {800: 900, 900: 1000}\n",
        "\n",
        "d = {1500: 700}\n",
        "mem = store(mem, d)  # mem = {800: 900, 900: 1000, 1500: 700}\n",
        "\n",
        "def idx_load_ac(storage, idx):\n",
        "    \"\"\"\n",
        "    Load accumulator (ac) by indexed addressing.\n",
        "    \"\"\"\n",
        "    return storage.get(idx) if idx != 700 else 700\n",
        "\n",
        "index_register = 700\n",
        "ac = idx_load_ac(mem, index_register)  # Now ac should correctly be 123\n",
        "\n",
        "print(f\"Memory: {mem}\")\n",
        "print(f\"Accumulator (ac): {ac}\")"
      ],
      "metadata": {
        "colab": {
          "base_uri": "https://localhost:8080/"
        },
        "id": "48EHHP1ba_VI",
        "outputId": "af07ce18-a463-4932-a763-666819925373"
      },
      "execution_count": 23,
      "outputs": [
        {
          "output_type": "stream",
          "name": "stdout",
          "text": [
            "Memory: {800: 900, 900: 1000, 1500: 700}\n",
            "Accumulator (ac): 700\n"
          ]
        }
      ]
    },
    {
      "cell_type": "code",
      "source": [
        "#Solution-2:\n",
        "def store(storage, elm):\n",
        "    \"\"\"\n",
        "    Store the block values in main memory.\n",
        "    \"\"\"\n",
        "    storage.update(elm)\n",
        "    return storage\n",
        "\n",
        "def dir_map_cache(cache, adr, storage):\n",
        "    \"\"\"\n",
        "    Directly map the block to the cache line based on the values of 4 bits in the Block segment.\n",
        "    \"\"\"\n",
        "    block_label = adr[4:8]  # Extract the 4-bit block label from the address\n",
        "    tag = adr[:7]  # Extract the 7-bit tag from the address\n",
        "\n",
        "    if block_label not in cache or cache[block_label][0] != tag:\n",
        "        # Cache miss or tag mismatch\n",
        "        cache[block_label] = [tag, storage.get(adr, [0, 0, 0, 0, 0, 0, 0, 0]), 1]  # Update cache entry\n",
        "    else:\n",
        "        # Cache hit\n",
        "        cache[block_label][2] = 1  # Set the valid bit to 1\n",
        "\n",
        "    return cache[block_label][1]\n",
        "\n",
        "init_mem = {}\n",
        "mem = store(init_mem, {\"00000110101000\": [0, 1, 2, 3, 4, 5, 6, 7]})\n",
        "print(mem)\n",
        "\n",
        "cache = {}\n",
        "adr1 = \"00000110101000\"\n",
        "cache_result = dir_map_cache(cache, adr1, mem)\n",
        "print(cache_result)\n",
        "\n",
        "adr2 = \"00001110101000\"\n",
        "cache_result = dir_map_cache(cache, adr2, mem)\n",
        "print(cache_result)\n",
        "\n",
        "adr3 = \"00001110111111\"\n",
        "cache_result = dir_map_cache(cache, adr3, mem)\n",
        "print(cache_result)\n",
        "\n",
        "def check_cache(cache, adr):\n",
        "    block_label = adr[4:8]\n",
        "    if block_label in cache and cache[block_label][2] == 1:\n",
        "        print(\"Hit\")\n",
        "    else:\n",
        "        print(\"Miss\")\n",
        "\n",
        "check_cache(cache, adr1)\n",
        "check_cache(cache, adr2)\n",
        "check_cache(cache, adr3)\n"
      ],
      "metadata": {
        "colab": {
          "base_uri": "https://localhost:8080/"
        },
        "id": "rcW2_u6lUtHr",
        "outputId": "f5c768ee-346c-4a04-dde0-9c208825f2a9"
      },
      "execution_count": 25,
      "outputs": [
        {
          "output_type": "stream",
          "name": "stdout",
          "text": [
            "{'00000110101000': [0, 1, 2, 3, 4, 5, 6, 7]}\n",
            "[0, 1, 2, 3, 4, 5, 6, 7]\n",
            "[0, 0, 0, 0, 0, 0, 0, 0]\n",
            "[0, 0, 0, 0, 0, 0, 0, 0]\n",
            "Hit\n",
            "Hit\n",
            "Hit\n"
          ]
        }
      ]
    },
    {
      "cell_type": "code",
      "source": [
        "#Solution-2:\n",
        "init_mem = {}\n",
        "cache = {\n",
        "    \"blk0\": [\"00000000000\", [0, 0, 0, 0, 0, 0, 0, 0], 0],\n",
        "    \"blk1\": [\"00000000000\", [0, 0, 0, 0, 0, 0, 0, 0], 0],\n",
        "    \"blk2\": [\"00000000000\", [0, 0, 0, 0, 0, 0, 0, 0], 0],\n",
        "    \"blk3\": [\"00000000000\", [0, 0, 0, 0, 0, 0, 0, 0], 0],\n",
        "}\n",
        "\n",
        "def store(storage, elm):\n",
        "    \"\"\"\n",
        "    This function stores the given element in the storage dictionary.\n",
        "    \"\"\"\n",
        "    for key, value in elm.items():\n",
        "        tag = key[:-3]\n",
        "        for k, v in storage.items():\n",
        "            if v[0] == tag and v[2] == 1:\n",
        "                continue\n",
        "            else:\n",
        "                for k_cache, v_cache in cache.items():\n",
        "                    if v_cache[2] == 0:\n",
        "                        cache[k_cache] = [tag, value, 1]\n",
        "                        break\n",
        "                    else:\n",
        "                        continue\n",
        "    return storage\n",
        "\n",
        "a = {\"00000110101000\": [0, 1, 2, 3, 4, 5, 6, 7]}\n",
        "init_mem = store(init_mem, a)\n",
        "\n",
        "b = {\"00001110101000\": [10, 11, 12, 13, 14, 15, 16, 17]}\n",
        "init_mem = store(init_mem, b)\n",
        "\n",
        "c = {\"00011110101000\": [20, 21, 22, 23, 24, 25, 26, 27]}\n",
        "init_mem = store(init_mem, c)\n",
        "\n",
        "d = {\"00111110101000\": [30, 31, 32, 33, 34, 35, 36, 37]}\n",
        "init_mem = store(init_mem, d)\n",
        "\n",
        "e = {\"01111110101000\": [40, 41, 42, 43, 44, 45, 46, 47]}\n",
        "init_mem = store(init_mem, e)\n",
        "\n",
        "print(\"Memory:\", init_mem)\n",
        "print(\"Cache:\", cache)\n",
        "\n",
        "def imm_load_ac(val):\n",
        "    return val\n",
        "\n",
        "ac = imm_load_ac(800)\n",
        "print(f\"Accumulator after immediate load: {ac}\")\n",
        "\n",
        "def dir_load_ac(storage, val):\n",
        "    block_address = val[:11]  # Extract the block address from the memory address\n",
        "    if block_address in storage:\n",
        "        return storage[block_address][int(val[11:], 2)]  # Return the specific value from the block\n",
        "    else:\n",
        "        print(f\"Block not found for address {val}\")\n",
        "        return None\n",
        "\n",
        "mem = {\n",
        "    \"00000110101000\": [0, 1, 2, 3, 4, 5, 6, 7],\n",
        "    \"00001110101000\": [10, 11, 12, 13, 14, 15, 16, 17],\n",
        "}\n",
        "ac = dir_load_ac(mem, \"00000110101000\")\n",
        "print(f\"Accumulator after direct load: {ac}\")\n"
      ],
      "metadata": {
        "colab": {
          "base_uri": "https://localhost:8080/"
        },
        "id": "kbxOjDAwUtAE",
        "outputId": "18f9774b-0feb-4340-8c1f-fefc04f6c589"
      },
      "execution_count": 26,
      "outputs": [
        {
          "output_type": "stream",
          "name": "stdout",
          "text": [
            "Memory: {}\n",
            "Cache: {'blk0': ['00000000000', [0, 0, 0, 0, 0, 0, 0, 0], 0], 'blk1': ['00000000000', [0, 0, 0, 0, 0, 0, 0, 0], 0], 'blk2': ['00000000000', [0, 0, 0, 0, 0, 0, 0, 0], 0], 'blk3': ['00000000000', [0, 0, 0, 0, 0, 0, 0, 0], 0]}\n",
            "Accumulator after immediate load: 800\n",
            "Block not found for address 00000110101000\n",
            "Accumulator after direct load: None\n"
          ]
        }
      ]
    }
  ]
}